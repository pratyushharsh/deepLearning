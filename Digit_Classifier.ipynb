{
  "nbformat": 4,
  "nbformat_minor": 0,
  "metadata": {
    "colab": {
      "name": "Digit_Classifier.ipynb",
      "provenance": [],
      "collapsed_sections": [],
      "authorship_tag": "ABX9TyN7w7cra8IAk+LwREq/qWSy",
      "include_colab_link": true
    },
    "kernelspec": {
      "name": "python3",
      "display_name": "Python 3"
    },
    "accelerator": "GPU"
  },
  "cells": [
    {
      "cell_type": "markdown",
      "metadata": {
        "id": "view-in-github",
        "colab_type": "text"
      },
      "source": [
        "<a href=\"https://colab.research.google.com/github/pratyushharsh/deepLearning/blob/master/Digit_Classifier.ipynb\" target=\"_parent\"><img src=\"https://colab.research.google.com/assets/colab-badge.svg\" alt=\"Open In Colab\"/></a>"
      ]
    },
    {
      "cell_type": "code",
      "metadata": {
        "id": "XoV45n0jO12C",
        "colab_type": "code",
        "colab": {}
      },
      "source": [
        "import numpy as np\n",
        "import tensorflow as tf\n",
        "import matplotlib.pyplot as plt\n",
        "\n",
        "from tensorflow.keras.datasets import mnist\n",
        "\n",
        "from sklearn.model_selection import KFold\n"
      ],
      "execution_count": 1,
      "outputs": []
    },
    {
      "cell_type": "code",
      "metadata": {
        "id": "6gTxHI_dPZi1",
        "colab_type": "code",
        "colab": {
          "base_uri": "https://localhost:8080/",
          "height": 70
        },
        "outputId": "59ca1347-cece-4250-d4c8-8b13ef8ad23e"
      },
      "source": [
        "# Loading the MNSIT dataset using tensorflow dataset\n",
        "\n",
        "(trainX, trainy), (testX, testy) = mnist.load_data()"
      ],
      "execution_count": 2,
      "outputs": [
        {
          "output_type": "stream",
          "text": [
            "Downloading data from https://storage.googleapis.com/tensorflow/tf-keras-datasets/mnist.npz\n",
            "11493376/11490434 [==============================] - 0s 0us/step\n"
          ],
          "name": "stdout"
        }
      ]
    },
    {
      "cell_type": "code",
      "metadata": {
        "id": "17qmfhNiRcW7",
        "colab_type": "code",
        "colab": {
          "base_uri": "https://localhost:8080/",
          "height": 50
        },
        "outputId": "bf784012-21a8-4cc8-d6d4-55509d0671fd"
      },
      "source": [
        "print('Train: X=%s, y=%s' % (trainX.shape, trainy.shape))\n",
        "print('Test: X=%s, y=%s' % (testX.shape, testy.shape))"
      ],
      "execution_count": 3,
      "outputs": [
        {
          "output_type": "stream",
          "text": [
            "Train: X=(60000, 28, 28), y=(60000,)\n",
            "Test: X=(10000, 28, 28), y=(10000,)\n"
          ],
          "name": "stdout"
        }
      ]
    },
    {
      "cell_type": "code",
      "metadata": {
        "id": "SN-BjfLVgGEm",
        "colab_type": "code",
        "colab": {
          "base_uri": "https://localhost:8080/",
          "height": 268
        },
        "outputId": "bfd0d6a6-0b2a-4da7-8b8a-50dc474b6657"
      },
      "source": [
        "# Ploting few images\n",
        "for i in range(9):\n",
        "  plt.subplot(330 + 1 + i)\n",
        "  plt.imshow(trainX[i], cmap=plt.get_cmap('gray'))\n",
        "plt.show()"
      ],
      "execution_count": 4,
      "outputs": [
        {
          "output_type": "display_data",
          "data": {
            "image/png": "[encoded data removed]",
            "text/plain": [
              "<Figure size 432x288 with 9 Axes>"
            ]
          },
          "metadata": {
            "tags": [],
            "needs_background": "light"
          }
        }
      ]
    },
    {
      "cell_type": "code",
      "metadata": {
        "id": "zKk0ojdbkw5W",
        "colab_type": "code",
        "colab": {}
      },
      "source": [
        "def load_dataset():\n",
        "  # Loading dataset from leras api\n",
        "  (trainX, trainy), (testX, testy) = mnist.load_data()\n",
        "  # reshaping to desired input size\n",
        "  trainX = trainX.reshape(trainX.shape[0], 28, 28, 1)\n",
        "  testX = testX.reshape(testX.shape[0], 28, 28, 1)\n",
        "  # One hot encoding\n",
        "  trainy = tf.keras.utils.to_categorical(trainy)\n",
        "  testy = tf.keras.utils.to_categorical(testy)\n",
        "  return trainX, trainy, testX, testy"
      ],
      "execution_count": 5,
      "outputs": []
    },
    {
      "cell_type": "code",
      "metadata": {
        "id": "AWEkP30LVYbE",
        "colab_type": "code",
        "colab": {}
      },
      "source": [
        "# Changing the pixel data from int9 to float32 for higher precession\n",
        "def norm_pixels(train, test):\n",
        "  # Convert to float32\n",
        "  train_norm = train.astype('float32')\n",
        "  test_norm = train.astype('float32')\n",
        "  # Normalizing tp range 0 - 1\n",
        "  train_norm = train_norm / 255\n",
        "  test_norm = test_norm / 255\n",
        "  # return normalized data\n",
        "  return train_norm, test_norm"
      ],
      "execution_count": 6,
      "outputs": []
    },
    {
      "cell_type": "code",
      "metadata": {
        "id": "0lK3Q8wXRgZx",
        "colab_type": "code",
        "colab": {}
      },
      "source": [
        "def define_model():\n",
        "  model = tf.keras.models.Sequential([\n",
        "    tf.keras.layers.Conv2D(32, (3, 3), activation='relu', input_shape=(28, 28, 1)),\n",
        "    tf.keras.layers.MaxPool2D((2, 2)),\n",
        "    tf.keras.layers.Conv2D(64, (3, 3), activation='relu'),\n",
        "    tf.keras.layers.Conv2D(64, (3, 3), activation='relu'),\n",
        "    tf.keras.layers.MaxPool2D((2, 2)),\n",
        "    tf.keras.layers.Flatten(),\n",
        "    tf.keras.layers.Dense(100, activation='relu'),\n",
        "    tf.keras.layers.Dense(10, activation='softmax')\n",
        "  ])\n",
        "\n",
        "  model.compile(\n",
        "    loss='categorical_crossentropy',\n",
        "    optimizer=tf.keras.optimizers.Adam(0.001),\n",
        "    metrics=['accuracy']\n",
        "  )\n",
        "  return model;\n"
      ],
      "execution_count": 13,
      "outputs": []
    },
    {
      "cell_type": "code",
      "metadata": {
        "id": "YdQm43LAUHl_",
        "colab_type": "code",
        "colab": {}
      },
      "source": [
        "# Model Evaluation\n",
        "def evaluate_model(dataX, dataY, n_folds=5):\n",
        "  scores, histories = list(), list()\n",
        "  # prepare kfold validation\n",
        "  kfold = KFold(n_folds, shuffle=True)\n",
        "  for train_ix, test_ix in kfold.split(dataX):\n",
        "    # defining the model\n",
        "    model = define_model()\n",
        "    # selecting row for train and test\n",
        "    trainX, trainY, testX, testY = dataX[train_ix], dataY[train_ix], dataX[test_ix], dataY[test_ix]\n",
        "    # fit the model\n",
        "    history = model.fit(trainX, trainY, epochs=10, batch_size=32, validation_data=(testX, testY), verbose=0)\n",
        "    # model evaluation\n",
        "    _, acc = model.evaluate(testX, testY)\n",
        "    print('> %.3f' % (acc*100.0))\n",
        "    scores.append(acc)\n",
        "    histories.append(history)\n",
        "  \n",
        "  return scores, histories"
      ],
      "execution_count": 8,
      "outputs": []
    },
    {
      "cell_type": "code",
      "metadata": {
        "id": "aZUhdPKYSMWv",
        "colab_type": "code",
        "colab": {}
      },
      "source": [
        "# Ploting diagonostic curvrs\n",
        "def summary_diagnostic(history):\n",
        "  for i in range(len(history)):\n",
        "    # plotting loss\n",
        "    plt.subplot(2, 1, 1)\n",
        "    plt.title('Cross Entropy Loss')\n",
        "    plt.plot(history[i].history['loss'], color='blue', label='train')\n",
        "    plt.plot(history[i].history['val_loss'], color='orange', label='test')\n",
        "    # plotting accuracy\n",
        "    plt.subplot(2, 1, 2)\n",
        "    plt.title('Classification Accuracy')\n",
        "    plt.plot(history[i].history['accuracy'], color='blue', label='train')\n",
        "    plt.plot(history[i].history['val_accuracy'], color='orange', label='test')\n",
        "  plt.show()\n"
      ],
      "execution_count": 9,
      "outputs": []
    },
    {
      "cell_type": "code",
      "metadata": {
        "id": "9f-zPvN1mipQ",
        "colab_type": "code",
        "colab": {}
      },
      "source": [
        "# Summuraizing Performance\n",
        "def summary_performance(scores):\n",
        "  print('Accuracy: mean=%.3f std=%.3f, n=%d' % (np.mean(scores)*100, np.std(scores)*100, len(scores)))\n"
      ],
      "execution_count": 10,
      "outputs": []
    },
    {
      "cell_type": "code",
      "metadata": {
        "id": "nq5TbTpoXXhW",
        "colab_type": "code",
        "colab": {}
      },
      "source": [
        "# Test to evaluate the model\n",
        "def run_test_harness():\n",
        "  # Loading dataset\n",
        "  trainX, trainY, testX, testY = load_dataset()\n",
        "  # prepare the data\n",
        "  trainX, testX = norm_pixels(trainX, testX)\n",
        "  # evaluating model\n",
        "  scores, histories = evaluate_model(trainX, trainY)\n",
        "  # learning curves\n",
        "  summary_diagnostic(histories)\n",
        "\t# summarize estimated performance\n",
        "  summary_performance(scores)\n"
      ],
      "execution_count": 11,
      "outputs": []
    },
    {
      "cell_type": "code",
      "metadata": {
        "id": "e87eYWC_uWwK",
        "colab_type": "code",
        "colab": {
          "base_uri": "https://localhost:8080/",
          "height": 553
        },
        "outputId": "02ffefaa-bb3b-42e0-ee19-49e63961ec9f"
      },
      "source": [
        "run_test_harness()"
      ],
      "execution_count": 14,
      "outputs": [
        {
          "output_type": "stream",
          "text": [
            "375/375 [==============================] - 1s 3ms/step - loss: 0.0414 - accuracy: 0.9911\n",
            "> 99.108\n",
            "375/375 [==============================] - 1s 3ms/step - loss: 0.0488 - accuracy: 0.9902\n",
            "> 99.017\n",
            "375/375 [==============================] - 1s 3ms/step - loss: 0.0388 - accuracy: 0.9905\n",
            "> 99.050\n",
            "375/375 [==============================] - 1s 3ms/step - loss: 0.0383 - accuracy: 0.9914\n",
            "> 99.142\n",
            "375/375 [==============================] - 1s 3ms/step - loss: 0.0575 - accuracy: 0.9875\n",
            "> 98.750\n"
          ],
          "name": "stdout"
        },
        {
          "output_type": "stream",
          "text": [
            "/usr/local/lib/python3.6/dist-packages/ipykernel_launcher.py:5: MatplotlibDeprecationWarning: Adding an axes using the same arguments as a previous axes currently reuses the earlier instance.  In a future version, a new instance will always be created and returned.  Meanwhile, this warning can be suppressed, and the future behavior ensured, by passing a unique label to each axes instance.\n",
            "  \"\"\"\n",
            "/usr/local/lib/python3.6/dist-packages/ipykernel_launcher.py:10: MatplotlibDeprecationWarning: Adding an axes using the same arguments as a previous axes currently reuses the earlier instance.  In a future version, a new instance will always be created and returned.  Meanwhile, this warning can be suppressed, and the future behavior ensured, by passing a unique label to each axes instance.\n",
            "  # Remove the CWD from sys.path while we load stuff.\n"
          ],
          "name": "stderr"
        },
        {
          "output_type": "display_data",
          "data": {
            "image/png": "[encoded data removed]",
            "text/plain": [
              "<Figure size 432x288 with 2 Axes>"
            ]
          },
          "metadata": {
            "tags": [],
            "needs_background": "light"
          }
        },
        {
          "output_type": "stream",
          "text": [
            "Accuracy: mean=99.013 std=0.139, n=5\n"
          ],
          "name": "stdout"
        }
      ]
    }
  ]
}