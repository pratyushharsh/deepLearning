{
  "nbformat": 4,
  "nbformat_minor": 0,
  "metadata": {
    "colab": {
      "name": "Digit_Classifier.ipynb",
      "provenance": [],
      "collapsed_sections": [],
      "authorship_tag": "ABX9TyPq6enwc8S9RARK056Bs5CR",
      "include_colab_link": true
    },
    "kernelspec": {
      "name": "python3",
      "display_name": "Python 3"
    },
    "accelerator": "GPU"
  },
  "cells": [
    {
      "cell_type": "markdown",
      "metadata": {
        "id": "view-in-github",
        "colab_type": "text"
      },
      "source": [
        "<a href=\"https://colab.research.google.com/github/pratyushharsh/deepLearning/blob/master/Digit_Classifier.ipynb\" target=\"_parent\"><img src=\"https://colab.research.google.com/assets/colab-badge.svg\" alt=\"Open In Colab\"/></a>"
      ]
    },
    {
      "cell_type": "code",
      "metadata": {
        "id": "XoV45n0jO12C",
        "colab_type": "code",
        "colab": {}
      },
      "source": [
        "import numpy as np\n",
        "import tensorflow as tf\n",
        "import matplotlib.pyplot as plt\n",
        "\n",
        "from tensorflow.keras.datasets import mnist\n",
        "\n",
        "from sklearn.model_selection import KFold\n"
      ],
      "execution_count": 48,
      "outputs": []
    },
    {
      "cell_type": "code",
      "metadata": {
        "id": "6gTxHI_dPZi1",
        "colab_type": "code",
        "colab": {}
      },
      "source": [
        "# Loading the MNSIT dataset using tensorflow dataset\n",
        "\n",
        "(trainX, trainy), (testX, testy) = mnist.load_data()"
      ],
      "execution_count": 49,
      "outputs": []
    },
    {
      "cell_type": "code",
      "metadata": {
        "id": "17qmfhNiRcW7",
        "colab_type": "code",
        "colab": {
          "base_uri": "https://localhost:8080/",
          "height": 50
        },
        "outputId": "59491bbe-30d0-4557-c129-e908c66bdcd8"
      },
      "source": [
        "print('Train: X=%s, y=%s' % (trainX.shape, trainy.shape))\n",
        "print('Test: X=%s, y=%s' % (testX.shape, testy.shape))"
      ],
      "execution_count": 50,
      "outputs": [
        {
          "output_type": "stream",
          "text": [
            "Train: X=(60000, 28, 28), y=(60000,)\n",
            "Test: X=(10000, 28, 28), y=(10000,)\n"
          ],
          "name": "stdout"
        }
      ]
    },
    {
      "cell_type": "code",
      "metadata": {
        "id": "SN-BjfLVgGEm",
        "colab_type": "code",
        "colab": {
          "base_uri": "https://localhost:8080/",
          "height": 268
        },
        "outputId": "976075c7-504a-40dd-896b-a1d53be00dba"
      },
      "source": [
        "# Ploting few images\n",
        "for i in range(9):\n",
        "  plt.subplot(330 + 1 + i)\n",
        "  plt.imshow(trainX[i], cmap=plt.get_cmap('gray'))\n",
        "plt.show()"
      ],
      "execution_count": 51,
      "outputs": [
        {
          "output_type": "display_data",
          "data": {
            "image/png": "[encoded data removed]",
            "text/plain": [
              "<Figure size 432x288 with 9 Axes>"
            ]
          },
          "metadata": {
            "tags": [],
            "needs_background": "light"
          }
        }
      ]
    },
    {
      "cell_type": "code",
      "metadata": {
        "id": "NdUvBrYah1I4",
        "colab_type": "code",
        "colab": {}
      },
      "source": [
        "# Reshaping the dataset\n"
      ],
      "execution_count": 35,
      "outputs": []
    },
    {
      "cell_type": "code",
      "metadata": {
        "id": "Ew1Tn3ADjbp_",
        "colab_type": "code",
        "colab": {}
      },
      "source": [
        ""
      ],
      "execution_count": null,
      "outputs": []
    },
    {
      "cell_type": "code",
      "metadata": {
        "id": "zKk0ojdbkw5W",
        "colab_type": "code",
        "colab": {}
      },
      "source": [
        "def load_dataset():\n",
        "  # Loading dataset from leras api\n",
        "  (trainX, trainy), (testX, testy) = mnist.load_data()\n",
        "  # reshaping to desired input size\n",
        "  trainX = trainX.reshape(trainX.shape[0], 28, 28, 1)\n",
        "  testX = testX.reshape(testX.shape[0], 28, 28, 1)\n",
        "  # One hot encoding\n",
        "  trainy = tf.keras.utils.to_categorical(trainy)\n",
        "  testy = tf.keras.utils.to_categorical(testy)\n",
        "  return trainX, trainy, testX, testy"
      ],
      "execution_count": 52,
      "outputs": []
    },
    {
      "cell_type": "code",
      "metadata": {
        "id": "AWEkP30LVYbE",
        "colab_type": "code",
        "colab": {}
      },
      "source": [
        "# Changing the pixel data from int9 to float32 for higher precession\n",
        "def norm_pixels(train, test):\n",
        "  # Convert to float32\n",
        "  train_norm = train.astype('float32')\n",
        "  test_norm = train.astype('float32')\n",
        "  # Normalizing tp range 0 - 1\n",
        "  train_norm = train_norm / 255\n",
        "  test_norm = test_norm / 255\n",
        "  # return normalized data\n",
        "  return train_norm, test_norm"
      ],
      "execution_count": 60,
      "outputs": []
    },
    {
      "cell_type": "code",
      "metadata": {
        "id": "0lK3Q8wXRgZx",
        "colab_type": "code",
        "colab": {}
      },
      "source": [
        "def define_model():\n",
        "  model = tf.keras.models.Sequential([\n",
        "    tf.keras.layers.Conv2D(32, (3, 3), activation='relu', input_shape=(28, 28, 1)),\n",
        "    tf.keras.layers.MaxPool2D((2, 2)),\n",
        "    tf.keras.layers.Flatten(),\n",
        "    tf.keras.layers.Dense(100, activation='relu'),\n",
        "    tf.keras.layers.Dense(10, activation='softmax')\n",
        "  ])\n",
        "\n",
        "  model.compile(\n",
        "    loss='categorical_crossentropy',\n",
        "    optimizer=tf.keras.optimizers.Adam(0.001),\n",
        "    metrics=['accuracy']\n",
        "  )\n",
        "  return model;\n"
      ],
      "execution_count": 74,
      "outputs": []
    },
    {
      "cell_type": "code",
      "metadata": {
        "id": "YdQm43LAUHl_",
        "colab_type": "code",
        "colab": {}
      },
      "source": [
        "# Model Evaluation\n",
        "def evaluate_model(dataX, dataY, n_folds=5):\n",
        "  scores, histories = list(), list()\n",
        "  # prepare kfold validation\n",
        "  kfold = KFold(n_folds, shuffle=True)\n",
        "  for train_ix, test_ix in kfold.split(dataX):\n",
        "    # defining the model\n",
        "    model = define_model()\n",
        "    # selecting row for train and test\n",
        "    trainX, trainY, testX, testY = dataX[train_ix], dataY[train_ix], dataX[test_ix], dataY[test_ix]\n",
        "    # fit the model\n",
        "    history = model.fit(trainX, trainY, epochs=10, batch_size=32, validation_data=(testX, testY))\n",
        "    # model evaluation\n",
        "    _, acc = model.evaluate(testX, testY)\n",
        "    print('> %.3f' % (acc*100.0))\n",
        "    scores.append(acc)\n",
        "    histories.append(history)\n",
        "  \n",
        "  return scores, histories"
      ],
      "execution_count": 78,
      "outputs": []
    },
    {
      "cell_type": "code",
      "metadata": {
        "id": "aZUhdPKYSMWv",
        "colab_type": "code",
        "colab": {}
      },
      "source": [
        "# Ploting diagonostic curvrs\n",
        "def summary_diagnostic(history):\n",
        "  for i in range(len(history)):\n",
        "    # plotting loss\n",
        "    plt.subplot(2, 1, 1)\n",
        "    plt.title('Cross Entropy Loss')\n",
        "    plt.plot(history[i].history['loss'], color='blue', label='train')\n",
        "    plt.plot(history[i].history['val_loss'], color='orange', label='test')\n",
        "    # plotting accuracy\n",
        "    plt.subplot(2, 1, 2)\n",
        "    plt.title('Classification Accuracy')\n",
        "    plt.plot(history[i].history['accuracy'], color='blue', label='train')\n",
        "    plt.plot(history[i].history['val_accuracy'], color='orange', label='test')\n",
        "  plt.show()\n"
      ],
      "execution_count": 85,
      "outputs": []
    },
    {
      "cell_type": "code",
      "metadata": {
        "id": "9f-zPvN1mipQ",
        "colab_type": "code",
        "colab": {}
      },
      "source": [
        "# Summuraizing Performance\n",
        "def summary_performance(scores):\n",
        "  print('Accuracy: mean=%.3f std=%.3f, n=%d' % (np.mean(scores)*100, np.std(scores)*100, len(scores)))\n"
      ],
      "execution_count": 88,
      "outputs": []
    },
    {
      "cell_type": "code",
      "metadata": {
        "id": "nq5TbTpoXXhW",
        "colab_type": "code",
        "colab": {}
      },
      "source": [
        "# Test to evaluate the model\n",
        "def run_test_harness():\n",
        "  # Loading dataset\n",
        "  trainX, trainY, testX, testY = load_dataset()\n",
        "  # prepare the data\n",
        "  trainX, testX = norm_pixels(trainX, testX)\n",
        "  # evaluating model\n",
        "  scores, histories = evaluate_model(trainX, trainY)\n",
        "  # learning curves\n",
        "  summary_diagnostic(histories)\n",
        "\t# summarize estimated performance\n",
        "  summary_performance(scores)\n"
      ],
      "execution_count": 79,
      "outputs": []
    },
    {
      "cell_type": "code",
      "metadata": {
        "id": "e87eYWC_uWwK",
        "colab_type": "code",
        "colab": {}
      },
      "source": [
        ""
      ],
      "execution_count": null,
      "outputs": []
    },
    {
      "cell_type": "code",
      "metadata": {
        "id": "jm5w6bCBpxej",
        "colab_type": "code",
        "colab": {}
      },
      "source": [
        "trainX, trainY, testX, testY = load_dataset()"
      ],
      "execution_count": 81,
      "outputs": []
    },
    {
      "cell_type": "code",
      "metadata": {
        "id": "Y3iMtjw4vuyU",
        "colab_type": "code",
        "colab": {}
      },
      "source": [
        "trainX, testX = norm_pixels(trainX, testX)"
      ],
      "execution_count": 82,
      "outputs": []
    },
    {
      "cell_type": "code",
      "metadata": {
        "id": "KYMdd8oPvyCZ",
        "colab_type": "code",
        "colab": {
          "base_uri": "https://localhost:8080/",
          "height": 1000
        },
        "outputId": "d50f28fb-6371-414b-f131-4a33e68ea0ff"
      },
      "source": [
        "scores, histories = evaluate_model(trainX, trainY)"
      ],
      "execution_count": 83,
      "outputs": [
        {
          "output_type": "stream",
          "text": [
            "Epoch 1/10\n",
            "1500/1500 [==============================] - 4s 3ms/step - loss: 0.1820 - accuracy: 0.9465 - val_loss: 0.0672 - val_accuracy: 0.9814\n",
            "Epoch 2/10\n",
            "1500/1500 [==============================] - 4s 3ms/step - loss: 0.0580 - accuracy: 0.9823 - val_loss: 0.0485 - val_accuracy: 0.9860\n",
            "Epoch 3/10\n",
            "1500/1500 [==============================] - 4s 3ms/step - loss: 0.0371 - accuracy: 0.9883 - val_loss: 0.0445 - val_accuracy: 0.9866\n",
            "Epoch 4/10\n",
            "1500/1500 [==============================] - 4s 3ms/step - loss: 0.0257 - accuracy: 0.9916 - val_loss: 0.0421 - val_accuracy: 0.9887\n",
            "Epoch 5/10\n",
            "1500/1500 [==============================] - 4s 3ms/step - loss: 0.0180 - accuracy: 0.9941 - val_loss: 0.0463 - val_accuracy: 0.9868\n",
            "Epoch 6/10\n",
            "1500/1500 [==============================] - 4s 3ms/step - loss: 0.0135 - accuracy: 0.9956 - val_loss: 0.0446 - val_accuracy: 0.9871\n",
            "Epoch 7/10\n",
            "1500/1500 [==============================] - 4s 3ms/step - loss: 0.0094 - accuracy: 0.9969 - val_loss: 0.0537 - val_accuracy: 0.9852\n",
            "Epoch 8/10\n",
            "1500/1500 [==============================] - 4s 3ms/step - loss: 0.0071 - accuracy: 0.9976 - val_loss: 0.0509 - val_accuracy: 0.9867\n",
            "Epoch 9/10\n",
            "1500/1500 [==============================] - 4s 3ms/step - loss: 0.0049 - accuracy: 0.9983 - val_loss: 0.0629 - val_accuracy: 0.9865\n",
            "Epoch 10/10\n",
            "1500/1500 [==============================] - 4s 3ms/step - loss: 0.0060 - accuracy: 0.9978 - val_loss: 0.0514 - val_accuracy: 0.9891\n",
            "375/375 [==============================] - 1s 2ms/step - loss: 0.0514 - accuracy: 0.9891\n",
            "> 98.908\n",
            "Epoch 1/10\n",
            "1500/1500 [==============================] - 4s 3ms/step - loss: 0.1825 - accuracy: 0.9454 - val_loss: 0.0861 - val_accuracy: 0.9747\n",
            "Epoch 2/10\n",
            "1500/1500 [==============================] - 4s 3ms/step - loss: 0.0591 - accuracy: 0.9829 - val_loss: 0.0677 - val_accuracy: 0.9792\n",
            "Epoch 3/10\n",
            "1500/1500 [==============================] - 4s 3ms/step - loss: 0.0380 - accuracy: 0.9885 - val_loss: 0.0586 - val_accuracy: 0.9824\n",
            "Epoch 4/10\n",
            "1500/1500 [==============================] - 4s 3ms/step - loss: 0.0264 - accuracy: 0.9918 - val_loss: 0.0569 - val_accuracy: 0.9836\n",
            "Epoch 5/10\n",
            "1500/1500 [==============================] - 4s 3ms/step - loss: 0.0180 - accuracy: 0.9946 - val_loss: 0.0607 - val_accuracy: 0.9831\n",
            "Epoch 6/10\n",
            "1500/1500 [==============================] - 4s 3ms/step - loss: 0.0137 - accuracy: 0.9954 - val_loss: 0.0547 - val_accuracy: 0.9859\n",
            "Epoch 7/10\n",
            "1500/1500 [==============================] - 4s 3ms/step - loss: 0.0091 - accuracy: 0.9971 - val_loss: 0.0569 - val_accuracy: 0.9848\n",
            "Epoch 8/10\n",
            "1500/1500 [==============================] - 4s 3ms/step - loss: 0.0064 - accuracy: 0.9980 - val_loss: 0.0655 - val_accuracy: 0.9850\n",
            "Epoch 9/10\n",
            "1500/1500 [==============================] - 4s 3ms/step - loss: 0.0066 - accuracy: 0.9978 - val_loss: 0.0611 - val_accuracy: 0.9866\n",
            "Epoch 10/10\n",
            "1500/1500 [==============================] - 4s 3ms/step - loss: 0.0049 - accuracy: 0.9985 - val_loss: 0.0674 - val_accuracy: 0.9870\n",
            "375/375 [==============================] - 1s 2ms/step - loss: 0.0674 - accuracy: 0.9870\n",
            "> 98.700\n",
            "Epoch 1/10\n",
            "1500/1500 [==============================] - 4s 3ms/step - loss: 0.1825 - accuracy: 0.9452 - val_loss: 0.0914 - val_accuracy: 0.9712\n",
            "Epoch 2/10\n",
            "1500/1500 [==============================] - 4s 3ms/step - loss: 0.0613 - accuracy: 0.9812 - val_loss: 0.0584 - val_accuracy: 0.9830\n",
            "Epoch 3/10\n",
            "1500/1500 [==============================] - 4s 3ms/step - loss: 0.0400 - accuracy: 0.9877 - val_loss: 0.0499 - val_accuracy: 0.9853\n",
            "Epoch 4/10\n",
            "1500/1500 [==============================] - 4s 3ms/step - loss: 0.0281 - accuracy: 0.9912 - val_loss: 0.0531 - val_accuracy: 0.9844\n",
            "Epoch 5/10\n",
            "1500/1500 [==============================] - 4s 3ms/step - loss: 0.0199 - accuracy: 0.9936 - val_loss: 0.0470 - val_accuracy: 0.9873\n",
            "Epoch 6/10\n",
            "1500/1500 [==============================] - 4s 3ms/step - loss: 0.0129 - accuracy: 0.9960 - val_loss: 0.0550 - val_accuracy: 0.9850\n",
            "Epoch 7/10\n",
            "1500/1500 [==============================] - 4s 3ms/step - loss: 0.0119 - accuracy: 0.9961 - val_loss: 0.0594 - val_accuracy: 0.9833\n",
            "Epoch 8/10\n",
            "1500/1500 [==============================] - 4s 3ms/step - loss: 0.0073 - accuracy: 0.9974 - val_loss: 0.0708 - val_accuracy: 0.9833\n",
            "Epoch 9/10\n",
            "1500/1500 [==============================] - 4s 3ms/step - loss: 0.0083 - accuracy: 0.9971 - val_loss: 0.0573 - val_accuracy: 0.9859\n",
            "Epoch 10/10\n",
            "1500/1500 [==============================] - 4s 3ms/step - loss: 0.0060 - accuracy: 0.9982 - val_loss: 0.0698 - val_accuracy: 0.9852\n",
            "375/375 [==============================] - 1s 2ms/step - loss: 0.0698 - accuracy: 0.9852\n",
            "> 98.525\n",
            "Epoch 1/10\n",
            "1500/1500 [==============================] - 4s 3ms/step - loss: 0.1695 - accuracy: 0.9501 - val_loss: 0.0854 - val_accuracy: 0.9752\n",
            "Epoch 2/10\n",
            "1500/1500 [==============================] - 4s 3ms/step - loss: 0.0594 - accuracy: 0.9817 - val_loss: 0.0667 - val_accuracy: 0.9796\n",
            "Epoch 3/10\n",
            "1500/1500 [==============================] - 4s 3ms/step - loss: 0.0382 - accuracy: 0.9882 - val_loss: 0.0575 - val_accuracy: 0.9816\n",
            "Epoch 4/10\n",
            "1500/1500 [==============================] - 4s 3ms/step - loss: 0.0262 - accuracy: 0.9918 - val_loss: 0.0576 - val_accuracy: 0.9833\n",
            "Epoch 5/10\n",
            "1500/1500 [==============================] - 4s 3ms/step - loss: 0.0183 - accuracy: 0.9940 - val_loss: 0.0494 - val_accuracy: 0.9861\n",
            "Epoch 6/10\n",
            "1500/1500 [==============================] - 4s 3ms/step - loss: 0.0135 - accuracy: 0.9958 - val_loss: 0.0640 - val_accuracy: 0.9844\n",
            "Epoch 7/10\n",
            "1500/1500 [==============================] - 4s 3ms/step - loss: 0.0090 - accuracy: 0.9972 - val_loss: 0.0620 - val_accuracy: 0.9849\n",
            "Epoch 8/10\n",
            "1500/1500 [==============================] - 4s 3ms/step - loss: 0.0078 - accuracy: 0.9974 - val_loss: 0.0701 - val_accuracy: 0.9836\n",
            "Epoch 9/10\n",
            "1500/1500 [==============================] - 4s 3ms/step - loss: 0.0060 - accuracy: 0.9981 - val_loss: 0.0739 - val_accuracy: 0.9837\n",
            "Epoch 10/10\n",
            "1500/1500 [==============================] - 4s 3ms/step - loss: 0.0050 - accuracy: 0.9985 - val_loss: 0.0712 - val_accuracy: 0.9829\n",
            "375/375 [==============================] - 1s 2ms/step - loss: 0.0712 - accuracy: 0.9829\n",
            "> 98.292\n",
            "Epoch 1/10\n",
            "1500/1500 [==============================] - 4s 3ms/step - loss: 0.1834 - accuracy: 0.9457 - val_loss: 0.0898 - val_accuracy: 0.9733\n",
            "Epoch 2/10\n",
            "1500/1500 [==============================] - 4s 3ms/step - loss: 0.0618 - accuracy: 0.9812 - val_loss: 0.0823 - val_accuracy: 0.9754\n",
            "Epoch 3/10\n",
            "1500/1500 [==============================] - 4s 3ms/step - loss: 0.0396 - accuracy: 0.9874 - val_loss: 0.0588 - val_accuracy: 0.9823\n",
            "Epoch 4/10\n",
            "1500/1500 [==============================] - 4s 3ms/step - loss: 0.0268 - accuracy: 0.9915 - val_loss: 0.0732 - val_accuracy: 0.9788\n",
            "Epoch 5/10\n",
            "1500/1500 [==============================] - 4s 3ms/step - loss: 0.0187 - accuracy: 0.9937 - val_loss: 0.0543 - val_accuracy: 0.9846\n",
            "Epoch 6/10\n",
            "1500/1500 [==============================] - 4s 3ms/step - loss: 0.0136 - accuracy: 0.9958 - val_loss: 0.0626 - val_accuracy: 0.9833\n",
            "Epoch 7/10\n",
            "1500/1500 [==============================] - 4s 3ms/step - loss: 0.0097 - accuracy: 0.9969 - val_loss: 0.0573 - val_accuracy: 0.9862\n",
            "Epoch 8/10\n",
            "1500/1500 [==============================] - 4s 3ms/step - loss: 0.0083 - accuracy: 0.9973 - val_loss: 0.0731 - val_accuracy: 0.9830\n",
            "Epoch 9/10\n",
            "1500/1500 [==============================] - 4s 3ms/step - loss: 0.0070 - accuracy: 0.9977 - val_loss: 0.0624 - val_accuracy: 0.9858\n",
            "Epoch 10/10\n",
            "1500/1500 [==============================] - 4s 3ms/step - loss: 0.0044 - accuracy: 0.9986 - val_loss: 0.0762 - val_accuracy: 0.9847\n",
            "375/375 [==============================] - 1s 2ms/step - loss: 0.0762 - accuracy: 0.9847\n",
            "> 98.475\n"
          ],
          "name": "stdout"
        }
      ]
    },
    {
      "cell_type": "code",
      "metadata": {
        "id": "ENUfvR7nw2PT",
        "colab_type": "code",
        "colab": {
          "base_uri": "https://localhost:8080/",
          "height": 368
        },
        "outputId": "685ce62c-af24-499d-d98f-51f091b40f64"
      },
      "source": [
        "summary_diagnostic(histories)"
      ],
      "execution_count": 86,
      "outputs": [
        {
          "output_type": "stream",
          "text": [
            "/usr/local/lib/python3.6/dist-packages/ipykernel_launcher.py:5: MatplotlibDeprecationWarning: Adding an axes using the same arguments as a previous axes currently reuses the earlier instance.  In a future version, a new instance will always be created and returned.  Meanwhile, this warning can be suppressed, and the future behavior ensured, by passing a unique label to each axes instance.\n",
            "  \"\"\"\n",
            "/usr/local/lib/python3.6/dist-packages/ipykernel_launcher.py:10: MatplotlibDeprecationWarning: Adding an axes using the same arguments as a previous axes currently reuses the earlier instance.  In a future version, a new instance will always be created and returned.  Meanwhile, this warning can be suppressed, and the future behavior ensured, by passing a unique label to each axes instance.\n",
            "  # Remove the CWD from sys.path while we load stuff.\n"
          ],
          "name": "stderr"
        },
        {
          "output_type": "display_data",
          "data": {
            "image/png": "[encoded data removed]",
            "text/plain": [
              "<Figure size 432x288 with 2 Axes>"
            ]
          },
          "metadata": {
            "tags": [],
            "needs_background": "light"
          }
        }
      ]
    },
    {
      "cell_type": "code",
      "metadata": {
        "id": "CFOk2-XyxKAp",
        "colab_type": "code",
        "colab": {
          "base_uri": "https://localhost:8080/",
          "height": 34
        },
        "outputId": "b3d07e1f-b0aa-46a0-ed59-cc9a790d8d1e"
      },
      "source": [
        "summary_performance(scores)"
      ],
      "execution_count": 89,
      "outputs": [
        {
          "output_type": "stream",
          "text": [
            "Accuracy: mean=98.580 std=0.209, n=5\n"
          ],
          "name": "stdout"
        }
      ]
    }
  ]
}